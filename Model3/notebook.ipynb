{
 "cells": [
  {
   "cell_type": "markdown",
   "metadata": {},
   "source": [
    "## Feature Engineering"
   ]
  },
  {
   "cell_type": "markdown",
   "metadata": {},
   "source": [
    "## Import Necessary Libraries and Data"
   ]
  },
  {
   "cell_type": "code",
   "execution_count": 5,
   "metadata": {},
   "outputs": [],
   "source": [
    "import pandas as pd\n",
    "import numpy as np\n",
    "import matplotlib.pyplot as plt\n",
    "import seaborn as sns"
   ]
  },
  {
   "cell_type": "code",
   "execution_count": 6,
   "metadata": {},
   "outputs": [
    {
     "name": "stdout",
     "output_type": "stream",
     "text": [
      "                  Variable/Indicator          Data                  Sector\n",
      "0                 adult_samehome_nyc  8.946070e+01            DEMOGRAPHICS\n",
      "1                  asian_api_pop_nyc  1.410903e+01            DEMOGRAPHICS\n",
      "2                asian_api_total_nyc  1.184982e+06            DEMOGRAPHICS\n",
      "3       asian_api_pop_nyc_historical  9.830000e+00            DEMOGRAPHICS\n",
      "4           asian_api_pop_change_nyc  4.353033e+01            DEMOGRAPHICS\n",
      "..                               ...           ...                     ...\n",
      "343  veterans_unemployed_percent_nyc  3.925968e+00  WORK, WEALTH & POVERTY\n",
      "344  unpaid_family_workers_class_nyc  1.046233e-01  WORK, WEALTH & POVERTY\n",
      "345             veterans_poverty_nyc  1.598600e+04  WORK, WEALTH & POVERTY\n",
      "346     veterans_poverty_percent_nyc  1.112937e+01  WORK, WEALTH & POVERTY\n",
      "347     government_workers_class_nyc  1.303072e+01  WORK, WEALTH & POVERTY\n",
      "\n",
      "[348 rows x 3 columns]\n"
     ]
    }
   ],
   "source": [
    "df = pd.read_csv(\"../data_cleaning/final_data.csv\")\n",
    "\n",
    "# Set the maximum number of rows to display\n",
    "pd.set_option('display.max_rows', 100)\n",
    "\n",
    "# Now, when you print your DataFrame, it will show up to 100 rows\n",
    "print(df)"
   ]
  },
  {
   "cell_type": "markdown",
   "metadata": {},
   "source": [
    "## Our Data has 3 columns that all have to be converted to be usable, \n",
    "1. Vectorize Variable/Indicator\n",
    "2. Normalize Variable Value\n",
    "3. One Hot encode our Category "
   ]
  },
  {
   "cell_type": "markdown",
   "metadata": {},
   "source": [
    "## 1. Converting Variable/Indicator column into a TfidfVector"
   ]
  },
  {
   "cell_type": "markdown",
   "metadata": {},
   "source": [
    "What is Text Vectorization?\n",
    "In simple terms, text vectorization is the process of turning text data into numerical data that a computer can understand and process. Imagine trying to feed words or sentences into a calculator; it wouldn't know what to do with them. But if you converted those words or sentences into numbers, then the calculator could work with them. That's essentially what we're doing with text vectorization\n",
    "\n",
    "Benefits :\n",
    "1. Machine Compatibility\n",
    "2. Capturing Semantic Meaning\n",
    "3. Dimensionality Reduction"
   ]
  },
  {
   "cell_type": "code",
   "execution_count": 7,
   "metadata": {},
   "outputs": [],
   "source": [
    "from sklearn.feature_extraction.text import TfidfVectorizer\n",
    "## Initialize Vectorizer\n",
    "vectorizer = TfidfVectorizer()\n",
    "\n",
    "## Fit and Transform Data - Allows the vector to \"learn\" the variable names\n",
    "variables_tfidf_matrix = vectorizer.fit_transform(df['Variable/Indicator'])\n",
    "\n",
    "## variables_tfidf_matrix is the variable that holds matrices of learned words that could be directly inserted to our model"
   ]
  },
  {
   "cell_type": "markdown",
   "metadata": {},
   "source": [
    "## Performing One Hot Encoding on Sector "
   ]
  },
  {
   "cell_type": "markdown",
   "metadata": {},
   "source": [
    "One-hot encoding is a process by which categorical variables are converted into a form that could be provided to machine learning algorithms to improve predictions."
   ]
  },
  {
   "cell_type": "code",
   "execution_count": 25,
   "metadata": {},
   "outputs": [
    {
     "name": "stdout",
     "output_type": "stream",
     "text": [
      "['DEMOGRAPHICS' 'EDUCATION' 'ENVIRONMENT' 'FOOD SYSTEMS' 'HEALTH'\n",
      " 'HOUSING & INFRASTRUCTURE' 'POLITICAL ENGAGEMENT'\n",
      " 'PUBLIC FUNDING & SERVICES' 'SAFETY & SECURITY' 'WORK, WEALTH & POVERTY']\n"
     ]
    }
   ],
   "source": [
    "# Figure out column names to identify which one is the sector column\n",
    "df_cols = df.columns.tolist() # 'Sector' is the name of our sector column\n",
    "\n",
    "# Identify Unique Sectors\n",
    "unique_sectors = df['Sector'].unique()\n",
    "print(unique_sectors)\n",
    "\n"
   ]
  },
  {
   "cell_type": "markdown",
   "metadata": {},
   "source": [
    "We have 10 Sectors so our one hot-encoding should return 9 columns. It drops the first column 'Demographic' to avoid collinearity. \n",
    "\n",
    "- A 1 means on any of the 9 sectors means it is part of that sector\n",
    "\n",
    "- A 0 means it is not part of the sector\n",
    "\n",
    "We will use this to cluster our data\n"
   ]
  },
  {
   "cell_type": "code",
   "execution_count": 26,
   "metadata": {},
   "outputs": [],
   "source": [
    "from sklearn.preprocessing import OneHotEncoder\n",
    "\n",
    "# Initialize OneHotEncoder\n",
    "# sparse_output=False - Output will be regular NumPy array and not a sparse matrix\n",
    "# drop=\"first\" - avoid collinearity in some modeling scenarios.\n",
    "#                ex : We have Group A, B, C. We drop A,\n",
    "#                     the model then assumes that if its not B or C\n",
    "#                     it must be A by intuition\n",
    "# Benefits: Avoiding colinearity lowers chance of overfitting\n",
    "\n",
    "encoder = OneHotEncoder(sparse_output=False, drop='first')\n",
    "\n",
    "# Fit Transformed Data\n",
    "sector_encoded = encoder.fit_transform(df[['Sector']])\n",
    "\n",
    "\n",
    "# Add to a dummy dataframe to visualize \n",
    "encoded_df = pd.DataFrame(sector_encoded, columns=encoder.get_feature_names_out(['Sector']))\n"
   ]
  },
  {
   "cell_type": "code",
   "execution_count": 10,
   "metadata": {},
   "outputs": [
    {
     "name": "stdout",
     "output_type": "stream",
     "text": [
      "     Sector_EDUCATION  Sector_ENVIRONMENT  Sector_FOOD SYSTEMS  Sector_HEALTH  \\\n",
      "0                 0.0                 0.0                  0.0            0.0   \n",
      "1                 0.0                 0.0                  0.0            0.0   \n",
      "2                 0.0                 0.0                  0.0            0.0   \n",
      "3                 0.0                 0.0                  0.0            0.0   \n",
      "4                 0.0                 0.0                  0.0            0.0   \n",
      "..                ...                 ...                  ...            ...   \n",
      "343               0.0                 0.0                  0.0            0.0   \n",
      "344               0.0                 0.0                  0.0            0.0   \n",
      "345               0.0                 0.0                  0.0            0.0   \n",
      "346               0.0                 0.0                  0.0            0.0   \n",
      "347               0.0                 0.0                  0.0            0.0   \n",
      "\n",
      "     Sector_HOUSING & INFRASTRUCTURE  Sector_POLITICAL ENGAGEMENT  \\\n",
      "0                                0.0                          0.0   \n",
      "1                                0.0                          0.0   \n",
      "2                                0.0                          0.0   \n",
      "3                                0.0                          0.0   \n",
      "4                                0.0                          0.0   \n",
      "..                               ...                          ...   \n",
      "343                              0.0                          0.0   \n",
      "344                              0.0                          0.0   \n",
      "345                              0.0                          0.0   \n",
      "346                              0.0                          0.0   \n",
      "347                              0.0                          0.0   \n",
      "\n",
      "     Sector_PUBLIC FUNDING & SERVICES  Sector_SAFETY & SECURITY  \\\n",
      "0                                 0.0                       0.0   \n",
      "1                                 0.0                       0.0   \n",
      "2                                 0.0                       0.0   \n",
      "3                                 0.0                       0.0   \n",
      "4                                 0.0                       0.0   \n",
      "..                                ...                       ...   \n",
      "343                               0.0                       0.0   \n",
      "344                               0.0                       0.0   \n",
      "345                               0.0                       0.0   \n",
      "346                               0.0                       0.0   \n",
      "347                               0.0                       0.0   \n",
      "\n",
      "     Sector_WORK, WEALTH & POVERTY  \n",
      "0                              0.0  \n",
      "1                              0.0  \n",
      "2                              0.0  \n",
      "3                              0.0  \n",
      "4                              0.0  \n",
      "..                             ...  \n",
      "343                            1.0  \n",
      "344                            1.0  \n",
      "345                            1.0  \n",
      "346                            1.0  \n",
      "347                            1.0  \n",
      "\n",
      "[348 rows x 9 columns]\n"
     ]
    }
   ],
   "source": [
    "# Visualize one hot encoding\n",
    "print(encoded_df)"
   ]
  },
  {
   "cell_type": "code",
   "execution_count": 15,
   "metadata": {},
   "outputs": [
    {
     "name": "stdout",
     "output_type": "stream",
     "text": [
      "['Sector_EDUCATION', 'Sector_ENVIRONMENT', 'Sector_FOOD SYSTEMS', 'Sector_HEALTH', 'Sector_HOUSING & INFRASTRUCTURE', 'Sector_POLITICAL ENGAGEMENT', 'Sector_PUBLIC FUNDING & SERVICES', 'Sector_SAFETY & SECURITY', 'Sector_WORK, WEALTH & POVERTY']\n"
     ]
    }
   ],
   "source": [
    "## Identify one-hot-encoded-columns\n",
    "column_names = encoded_df.columns.tolist()\n",
    "print(column_names)"
   ]
  },
  {
   "cell_type": "code",
   "execution_count": 16,
   "metadata": {},
   "outputs": [],
   "source": [
    "import openpyxl\n",
    "\n",
    "encoded_df.to_excel('sector_one_hot_encoded.xlsx', index=False, header=column_names)"
   ]
  },
  {
   "cell_type": "code",
   "execution_count": null,
   "metadata": {},
   "outputs": [],
   "source": []
  }
 ],
 "metadata": {
  "kernelspec": {
   "display_name": "base",
   "language": "python",
   "name": "python3"
  },
  "language_info": {
   "codemirror_mode": {
    "name": "ipython",
    "version": 3
   },
   "file_extension": ".py",
   "mimetype": "text/x-python",
   "name": "python",
   "nbconvert_exporter": "python",
   "pygments_lexer": "ipython3",
   "version": "3.12.0"
  }
 },
 "nbformat": 4,
 "nbformat_minor": 2
}
