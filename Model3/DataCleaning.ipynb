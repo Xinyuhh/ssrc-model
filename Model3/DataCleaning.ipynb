{
 "cells": [
  {
   "cell_type": "markdown",
   "metadata": {},
   "source": [
    "## Import Necessary Libraries and Data"
   ]
  },
  {
   "cell_type": "code",
   "execution_count": 1,
   "metadata": {},
   "outputs": [],
   "source": [
    "import pandas as pd\n",
    "import numpy as np\n",
    "import matplotlib.pyplot as plt\n",
    "import seaborn as sns"
   ]
  },
  {
   "cell_type": "code",
   "execution_count": 9,
   "metadata": {},
   "outputs": [
    {
     "name": "stdout",
     "output_type": "stream",
     "text": [
      "                  Variable/Indicator          Data                  Sector\n",
      "0                 adult_samehome_nyc  8.946070e+01            DEMOGRAPHICS\n",
      "1                  asian_api_pop_nyc  1.410903e+01            DEMOGRAPHICS\n",
      "2                asian_api_total_nyc  1.184982e+06            DEMOGRAPHICS\n",
      "3       asian_api_pop_nyc_historical  9.830000e+00            DEMOGRAPHICS\n",
      "4           asian_api_pop_change_nyc  4.353033e+01            DEMOGRAPHICS\n",
      "..                               ...           ...                     ...\n",
      "343  veterans_unemployed_percent_nyc  3.925968e+00  WORK, WEALTH & POVERTY\n",
      "344  unpaid_family_workers_class_nyc  1.046233e-01  WORK, WEALTH & POVERTY\n",
      "345             veterans_poverty_nyc  1.598600e+04  WORK, WEALTH & POVERTY\n",
      "346     veterans_poverty_percent_nyc  1.112937e+01  WORK, WEALTH & POVERTY\n",
      "347     government_workers_class_nyc  1.303072e+01  WORK, WEALTH & POVERTY\n",
      "\n",
      "[348 rows x 3 columns]\n"
     ]
    }
   ],
   "source": [
    "df = pd.read_csv(\"../data2go_data/final_data.csv\")\n",
    "\n",
    "# Set the maximum number of rows to display\n",
    "pd.set_option('display.max_rows', 100)\n",
    "\n",
    "# Now, when you print your DataFrame, it will show up to 100 rows\n",
    "print(df)"
   ]
  },
  {
   "cell_type": "markdown",
   "metadata": {},
   "source": [
    "## Our Data has 3 columns that all have to be converted to be usable, \n",
    "1. Vectorize Variable/Indicator\n",
    "2. Normalize Variable Value\n",
    "3. One Hot encode our Category "
   ]
  },
  {
   "cell_type": "markdown",
   "metadata": {},
   "source": [
    "What is Text Vectorization?\n",
    "In simple terms, text vectorization is the process of turning text data into numerical data that a computer can understand and process. Imagine trying to feed words or sentences into a calculator; it wouldn't know what to do with them. But if you converted those words or sentences into numbers, then the calculator could work with them. That's essentially what we're doing with text vectorization"
   ]
  },
  {
   "cell_type": "markdown",
   "metadata": {},
   "source": [
    "Benefits :\n",
    "1. Machine Compatibility\n",
    "2. Capturing Semantic Meaning\n",
    "3. Dimensionality Reduction"
   ]
  },
  {
   "cell_type": "markdown",
   "metadata": {},
   "source": [
    "## Converting Variable/Indicator column "
   ]
  },
  {
   "cell_type": "code",
   "execution_count": 3,
   "metadata": {},
   "outputs": [],
   "source": [
    "from sklearn.feature_extraction.text import TfidfVectorizer\n",
    "## Initialize Vectorizer\n",
    "vectorizer = TfidfVectorizer()\n",
    "\n",
    "## Fit and Transform Data - Allows the vector to \"learn\" the variable names\n",
    "variables_tfidf_matrix = vectorizer.fit_transform(df['Variable/Indicator'])\n",
    "\n",
    "## variables_tfidf_matrix is the variable that holds matrices of learned words that could be directly inserted to our model"
   ]
  },
  {
   "cell_type": "code",
   "execution_count": null,
   "metadata": {},
   "outputs": [],
   "source": []
  }
 ],
 "metadata": {
  "kernelspec": {
   "display_name": "base",
   "language": "python",
   "name": "python3"
  },
  "language_info": {
   "codemirror_mode": {
    "name": "ipython",
    "version": 3
   },
   "file_extension": ".py",
   "mimetype": "text/x-python",
   "name": "python",
   "nbconvert_exporter": "python",
   "pygments_lexer": "ipython3",
   "version": "3.10.9"
  }
 },
 "nbformat": 4,
 "nbformat_minor": 2
}
